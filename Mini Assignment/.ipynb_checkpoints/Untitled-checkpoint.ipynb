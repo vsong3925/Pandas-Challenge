{
 "cells": [
  {
   "cell_type": "code",
   "execution_count": null,
   "metadata": {},
   "outputs": [],
   "source": [
    "import os\n",
    "import csv "
   ]
  },
  {
   "cell_type": "code",
   "execution_count": null,
   "metadata": {},
   "outputs": [],
   "source": [
    "# Path to collect data from the Resources folder\n",
    "wrestling_csv_path = '/Users/verasong/Python-Challenge/Week 2/Mini Assignment/Resources/WWE-Data-2016.csv'"
   ]
  },
  {
   "cell_type": "code",
   "execution_count": null,
   "metadata": {},
   "outputs": [],
   "source": [
    "# Read in the CSV file\n",
    "with open(wrestling_csv_path, 'r') as csvfile:\n",
    "\n",
    "    # Split the data on commas\n",
    "    csvreader = csv.reader(csvfile, delimiter=',')\n",
    "    headers = next(csvreader, None)\n",
    "\n",
    "    # Prompt the user for what wrestler they would like to search for\n",
    "    name_to_check = input(\"What wrestler do you want to look for? \")"
   ]
  },
  {
   "cell_type": "code",
   "execution_count": null,
   "metadata": {},
   "outputs": [],
   "source": [
    "# define percentage function\n",
    "    wrestler = True \n",
    "    def percentage(name_to_check):\n",
    "        for wrestler in csvreader:\n",
    "            wins = int(row[1])\n",
    "            losses = int(row[2])\n",
    "            draws = int(row[3])\n",
    "            total_matches = wins + losses + draws\n",
    "            \n",
    "            # percentage\n",
    "            percentage_of_wins = '{0:.2f}'.format((wins / total_matches * 100)) \n",
    "            percentage_of_losses = '{0:.2f}'.format((losses / total_matches * 100)) \n",
    "            percentage_of_draws = '{0:.2f}'.format((draws / total_matches * 100)) \n",
    "            return percentage_of_wins\n",
    "            return percentage_of_losses\n",
    "            return percentage_of_losses\n",
    "              \n",
    "        if name_to_check == row[0]:\n",
    "            print(f'{name_to_check}')\n",
    "            print(f'Percentage of matches won: {percentage_of_wins}')\n",
    "            print(f'Percentage of matches lost: {percentage_of_losses}')\n",
    "            print(f'Percentage of matches drew: {percentage_of_draws}')\n"
   ]
  },
  {
   "cell_type": "code",
   "execution_count": null,
   "metadata": {},
   "outputs": [],
   "source": [
    "# define variable i"
   ]
  },
  {
   "cell_type": "code",
   "execution_count": null,
   "metadata": {},
   "outputs": [],
   "source": [
    "# for i in csvreader, if i == \"name\", \n",
    "# calculate total, win percentages, losses percentage and draws percentage\n"
   ]
  },
  {
   "cell_type": "code",
   "execution_count": null,
   "metadata": {},
   "outputs": [],
   "source": [
    "# for i in csvreader, if i == \"name\", \n",
    "# calculate total, win percentages, losses percentage and draws percentage\n"
   ]
  },
  {
   "cell_type": "code",
   "execution_count": null,
   "metadata": {},
   "outputs": [],
   "source": []
  }
 ],
 "metadata": {
  "kernelspec": {
   "display_name": "Python 3",
   "language": "python",
   "name": "python3"
  },
  "language_info": {
   "codemirror_mode": {
    "name": "ipython",
    "version": 3
   },
   "file_extension": ".py",
   "mimetype": "text/x-python",
   "name": "python",
   "nbconvert_exporter": "python",
   "pygments_lexer": "ipython3",
   "version": "3.8.3"
  }
 },
 "nbformat": 4,
 "nbformat_minor": 4
}
