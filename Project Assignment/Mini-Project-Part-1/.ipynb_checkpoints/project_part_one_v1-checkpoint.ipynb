{
 "cells": [
  {
   "cell_type": "code",
   "execution_count": 174,
   "metadata": {},
   "outputs": [],
   "source": [
    "# Dependencies\n",
    "import pandas as pd"
   ]
  },
  {
   "cell_type": "code",
   "execution_count": 175,
   "metadata": {},
   "outputs": [],
   "source": [
    "# load CSV\n",
    "file = 'Resources/2016-FCC-New-Coders-Survey-Data.csv'"
   ]
  },
  {
   "cell_type": "code",
   "execution_count": 176,
   "metadata": {},
   "outputs": [
    {
     "name": "stderr",
     "output_type": "stream",
     "text": [
      "/Users/verasong/opt/anaconda3/lib/python3.8/site-packages/IPython/core/interactiveshell.py:3071: DtypeWarning: Columns (21,57) have mixed types.Specify dtype option on import or set low_memory=False.\n",
      "  has_raised = await self.run_ast_nodes(code_ast.body, cell_name,\n"
     ]
    }
   ],
   "source": [
    "# Read with pandas\n",
    "df_raw = pd.read_csv(file, encoding='ISO-8859-1')"
   ]
  },
  {
   "cell_type": "code",
   "execution_count": 177,
   "metadata": {},
   "outputs": [
    {
     "data": {
      "text/html": [
       "<div>\n",
       "<style scoped>\n",
       "    .dataframe tbody tr th:only-of-type {\n",
       "        vertical-align: middle;\n",
       "    }\n",
       "\n",
       "    .dataframe tbody tr th {\n",
       "        vertical-align: top;\n",
       "    }\n",
       "\n",
       "    .dataframe thead th {\n",
       "        text-align: right;\n",
       "    }\n",
       "</style>\n",
       "<table border=\"1\" class=\"dataframe\">\n",
       "  <thead>\n",
       "    <tr style=\"text-align: right;\">\n",
       "      <th></th>\n",
       "      <th>Age</th>\n",
       "      <th>AttendedBootcamp</th>\n",
       "      <th>BootcampFinish</th>\n",
       "      <th>BootcampFullJobAfter</th>\n",
       "      <th>BootcampLoanYesNo</th>\n",
       "      <th>BootcampMonthsAgo</th>\n",
       "      <th>BootcampName</th>\n",
       "      <th>BootcampPostSalary</th>\n",
       "      <th>BootcampRecommend</th>\n",
       "      <th>ChildrenNumber</th>\n",
       "      <th>...</th>\n",
       "      <th>ResourceSoloLearn</th>\n",
       "      <th>ResourceStackOverflow</th>\n",
       "      <th>ResourceTreehouse</th>\n",
       "      <th>ResourceUdacity</th>\n",
       "      <th>ResourceUdemy</th>\n",
       "      <th>ResourceW3Schools</th>\n",
       "      <th>ResourceYouTube</th>\n",
       "      <th>SchoolDegree</th>\n",
       "      <th>SchoolMajor</th>\n",
       "      <th>StudentDebtOwe</th>\n",
       "    </tr>\n",
       "  </thead>\n",
       "  <tbody>\n",
       "    <tr>\n",
       "      <th>0</th>\n",
       "      <td>28.0</td>\n",
       "      <td>0.0</td>\n",
       "      <td>NaN</td>\n",
       "      <td>NaN</td>\n",
       "      <td>NaN</td>\n",
       "      <td>NaN</td>\n",
       "      <td>NaN</td>\n",
       "      <td>NaN</td>\n",
       "      <td>NaN</td>\n",
       "      <td>NaN</td>\n",
       "      <td>...</td>\n",
       "      <td>NaN</td>\n",
       "      <td>NaN</td>\n",
       "      <td>NaN</td>\n",
       "      <td>NaN</td>\n",
       "      <td>NaN</td>\n",
       "      <td>NaN</td>\n",
       "      <td>NaN</td>\n",
       "      <td>some college credit, no degree</td>\n",
       "      <td>NaN</td>\n",
       "      <td>20000.0</td>\n",
       "    </tr>\n",
       "    <tr>\n",
       "      <th>1</th>\n",
       "      <td>22.0</td>\n",
       "      <td>0.0</td>\n",
       "      <td>NaN</td>\n",
       "      <td>NaN</td>\n",
       "      <td>NaN</td>\n",
       "      <td>NaN</td>\n",
       "      <td>NaN</td>\n",
       "      <td>NaN</td>\n",
       "      <td>NaN</td>\n",
       "      <td>NaN</td>\n",
       "      <td>...</td>\n",
       "      <td>NaN</td>\n",
       "      <td>NaN</td>\n",
       "      <td>NaN</td>\n",
       "      <td>NaN</td>\n",
       "      <td>1.0</td>\n",
       "      <td>NaN</td>\n",
       "      <td>NaN</td>\n",
       "      <td>some college credit, no degree</td>\n",
       "      <td>NaN</td>\n",
       "      <td>NaN</td>\n",
       "    </tr>\n",
       "    <tr>\n",
       "      <th>2</th>\n",
       "      <td>19.0</td>\n",
       "      <td>0.0</td>\n",
       "      <td>NaN</td>\n",
       "      <td>NaN</td>\n",
       "      <td>NaN</td>\n",
       "      <td>NaN</td>\n",
       "      <td>NaN</td>\n",
       "      <td>NaN</td>\n",
       "      <td>NaN</td>\n",
       "      <td>NaN</td>\n",
       "      <td>...</td>\n",
       "      <td>NaN</td>\n",
       "      <td>NaN</td>\n",
       "      <td>NaN</td>\n",
       "      <td>NaN</td>\n",
       "      <td>NaN</td>\n",
       "      <td>NaN</td>\n",
       "      <td>NaN</td>\n",
       "      <td>high school diploma or equivalent (GED)</td>\n",
       "      <td>NaN</td>\n",
       "      <td>NaN</td>\n",
       "    </tr>\n",
       "    <tr>\n",
       "      <th>3</th>\n",
       "      <td>26.0</td>\n",
       "      <td>0.0</td>\n",
       "      <td>NaN</td>\n",
       "      <td>NaN</td>\n",
       "      <td>NaN</td>\n",
       "      <td>NaN</td>\n",
       "      <td>NaN</td>\n",
       "      <td>NaN</td>\n",
       "      <td>NaN</td>\n",
       "      <td>NaN</td>\n",
       "      <td>...</td>\n",
       "      <td>NaN</td>\n",
       "      <td>NaN</td>\n",
       "      <td>NaN</td>\n",
       "      <td>NaN</td>\n",
       "      <td>NaN</td>\n",
       "      <td>NaN</td>\n",
       "      <td>NaN</td>\n",
       "      <td>bachelor's degree</td>\n",
       "      <td>Cinematography And Film</td>\n",
       "      <td>7000.0</td>\n",
       "    </tr>\n",
       "    <tr>\n",
       "      <th>4</th>\n",
       "      <td>20.0</td>\n",
       "      <td>0.0</td>\n",
       "      <td>NaN</td>\n",
       "      <td>NaN</td>\n",
       "      <td>NaN</td>\n",
       "      <td>NaN</td>\n",
       "      <td>NaN</td>\n",
       "      <td>NaN</td>\n",
       "      <td>NaN</td>\n",
       "      <td>NaN</td>\n",
       "      <td>...</td>\n",
       "      <td>NaN</td>\n",
       "      <td>NaN</td>\n",
       "      <td>NaN</td>\n",
       "      <td>NaN</td>\n",
       "      <td>NaN</td>\n",
       "      <td>NaN</td>\n",
       "      <td>NaN</td>\n",
       "      <td>some college credit, no degree</td>\n",
       "      <td>NaN</td>\n",
       "      <td>NaN</td>\n",
       "    </tr>\n",
       "  </tbody>\n",
       "</table>\n",
       "<p>5 rows × 113 columns</p>\n",
       "</div>"
      ],
      "text/plain": [
       "    Age  AttendedBootcamp  BootcampFinish  BootcampFullJobAfter  \\\n",
       "0  28.0               0.0             NaN                   NaN   \n",
       "1  22.0               0.0             NaN                   NaN   \n",
       "2  19.0               0.0             NaN                   NaN   \n",
       "3  26.0               0.0             NaN                   NaN   \n",
       "4  20.0               0.0             NaN                   NaN   \n",
       "\n",
       "   BootcampLoanYesNo  BootcampMonthsAgo BootcampName  BootcampPostSalary  \\\n",
       "0                NaN                NaN          NaN                 NaN   \n",
       "1                NaN                NaN          NaN                 NaN   \n",
       "2                NaN                NaN          NaN                 NaN   \n",
       "3                NaN                NaN          NaN                 NaN   \n",
       "4                NaN                NaN          NaN                 NaN   \n",
       "\n",
       "   BootcampRecommend  ChildrenNumber  ... ResourceSoloLearn  \\\n",
       "0                NaN             NaN  ...               NaN   \n",
       "1                NaN             NaN  ...               NaN   \n",
       "2                NaN             NaN  ...               NaN   \n",
       "3                NaN             NaN  ...               NaN   \n",
       "4                NaN             NaN  ...               NaN   \n",
       "\n",
       "   ResourceStackOverflow  ResourceTreehouse  ResourceUdacity  ResourceUdemy  \\\n",
       "0                    NaN                NaN              NaN            NaN   \n",
       "1                    NaN                NaN              NaN            1.0   \n",
       "2                    NaN                NaN              NaN            NaN   \n",
       "3                    NaN                NaN              NaN            NaN   \n",
       "4                    NaN                NaN              NaN            NaN   \n",
       "\n",
       "   ResourceW3Schools  ResourceYouTube  \\\n",
       "0                NaN              NaN   \n",
       "1                NaN              NaN   \n",
       "2                NaN              NaN   \n",
       "3                NaN              NaN   \n",
       "4                NaN              NaN   \n",
       "\n",
       "                              SchoolDegree              SchoolMajor  \\\n",
       "0           some college credit, no degree                      NaN   \n",
       "1           some college credit, no degree                      NaN   \n",
       "2  high school diploma or equivalent (GED)                      NaN   \n",
       "3                        bachelor's degree  Cinematography And Film   \n",
       "4           some college credit, no degree                      NaN   \n",
       "\n",
       "   StudentDebtOwe  \n",
       "0         20000.0  \n",
       "1             NaN  \n",
       "2             NaN  \n",
       "3          7000.0  \n",
       "4             NaN  \n",
       "\n",
       "[5 rows x 113 columns]"
      ]
     },
     "execution_count": 177,
     "metadata": {},
     "output_type": "execute_result"
    }
   ],
   "source": [
    "# Inspect all columns\n",
    "df_raw.head()"
   ]
  },
  {
   "cell_type": "code",
   "execution_count": 178,
   "metadata": {},
   "outputs": [],
   "source": [
    "# Extract only columns 0, 1, 2, 3, 4, 7, 8, 9, 10,11, 29, 30, 32, 36, 37, 45, 48, 56, 110, 111\n",
    "cols = df_raw.columns[[0, 1, 2, 3, 4, 7, 8, 9, 10,11, 29, 30, 32, 36, 37, 45, 48, 56, 110, 111]]\n",
    "df = df_raw.loc[:, cols]"
   ]
  },
  {
   "cell_type": "code",
   "execution_count": 179,
   "metadata": {},
   "outputs": [],
   "source": [
    "# Change \"0\" to \"No\" and \"1\" to \"Yes\" in response columns\n",
    "df2 = df.replace({0: 'No', 1: 'Yes'})"
   ]
  },
  {
   "cell_type": "code",
   "execution_count": 180,
   "metadata": {},
   "outputs": [
    {
     "data": {
      "text/plain": [
       "15380"
      ]
     },
     "execution_count": 180,
     "metadata": {},
     "output_type": "execute_result"
    }
   ],
   "source": [
    "# Calculate total number of respondents in survey\n",
    "total_response = df2['AttendedBootcamp'].count()\n",
    "total_response"
   ]
  },
  {
   "cell_type": "code",
   "execution_count": 181,
   "metadata": {},
   "outputs": [],
   "source": [
    "# Extract rows corresponding only to people who attended a bootcamp\n",
    "filt = df2['AttendedBootcamp'] == \"Yes\"\n",
    "attended_yes = df2.loc[filt]\n",
    "attended_yes_df = pd.DataFrame(attended_yes)"
   ]
  },
  {
   "cell_type": "code",
   "execution_count": 182,
   "metadata": {},
   "outputs": [
    {
     "data": {
      "text/plain": [
       "953"
      ]
     },
     "execution_count": 182,
     "metadata": {},
     "output_type": "execute_result"
    }
   ],
   "source": [
    "# Calculate average age of attendees\n",
    "average_age = attended_yes_df['Age'].mean()\n",
    "# Calculate how many people attended a bootcamp\n",
    "total_attendees = attended_yes_df['AttendedBootcamp'].count()\n",
    "total_attendees"
   ]
  },
  {
   "cell_type": "code",
   "execution_count": 183,
   "metadata": {},
   "outputs": [
    {
     "data": {
      "text/plain": [
       "716"
      ]
     },
     "execution_count": 183,
     "metadata": {},
     "output_type": "execute_result"
    }
   ],
   "source": [
    "# Calculate how many attendees hold degrees\n",
    "attended_yes_df['SchoolDegree'].unique\n",
    "filt = attended_yes_df['SchoolDegree'] != \"some college credit, no degree\"\n",
    "degree_count = attended_yes_df.loc[filt]['SchoolDegree'].count()\n",
    "degree_count"
   ]
  },
  {
   "cell_type": "code",
   "execution_count": 184,
   "metadata": {},
   "outputs": [
    {
     "name": "stdout",
     "output_type": "stream",
     "text": [
      "496\n",
      "326\n",
      "131\n"
     ]
    }
   ],
   "source": [
    "# Count number of attendees who self-identify as male; female; or are of non-binary gender identification\n",
    "filt_male = attended_yes_df['Gender'] == \"male\"\n",
    "male = attended_yes_df.loc[filt_male]['Gender'].count()\n",
    "\n",
    "filt_female = attended_yes_df['Gender'] == \"female\"\n",
    "female = attended_yes_df.loc[filt_female]['Gender'].count()\n",
    "\n",
    "nonbinary_gender_identification = int(total_attendees) - int(male) - int(female)\n",
    "\n",
    "print(male)\n",
    "print(female)\n",
    "print(nonbinary_gender_identification)"
   ]
  },
  {
   "cell_type": "code",
   "execution_count": 185,
   "metadata": {},
   "outputs": [],
   "source": [
    "# Calculate percentage of respondents who attended a bootcamp (attended / total respondents)\n",
    "percentage_attended_bootcamp = total_attendees / total_response\n",
    "\n",
    "# Calculate percentage of respondents belonging to each gender (gender / attended)\n",
    "percentage_male = male / total_attendees\n",
    "percentage_female = female / total_attendees\n",
    "percentage_other = nonbinary_gender_identification / total_attendees\n",
    "\n",
    "# Calculate percentage of attendees with a school degree (degree / attended)\n",
    "percentage_degree = degree_count / total_attendees"
   ]
  },
  {
   "cell_type": "code",
   "execution_count": 186,
   "metadata": {},
   "outputs": [],
   "source": [
    "# Calculate average post-bootcamp salary\n",
    "average_post_salary = attended_yes_df['BootcampPostSalary'].mean()\n",
    "average_post_salary_rounded = average_post_salary"
   ]
  },
  {
   "cell_type": "code",
   "execution_count": 187,
   "metadata": {},
   "outputs": [
    {
     "data": {
      "text/html": [
       "<div>\n",
       "<style scoped>\n",
       "    .dataframe tbody tr th:only-of-type {\n",
       "        vertical-align: middle;\n",
       "    }\n",
       "\n",
       "    .dataframe tbody tr th {\n",
       "        vertical-align: top;\n",
       "    }\n",
       "\n",
       "    .dataframe thead th {\n",
       "        text-align: right;\n",
       "    }\n",
       "</style>\n",
       "<table border=\"1\" class=\"dataframe\">\n",
       "  <thead>\n",
       "    <tr style=\"text-align: right;\">\n",
       "      <th></th>\n",
       "      <th>Total Response</th>\n",
       "      <th>Attended Bootcamp Count</th>\n",
       "      <th>Degree Count</th>\n",
       "      <th>Num of Male</th>\n",
       "      <th>Male Percentage</th>\n",
       "      <th>Num of Female</th>\n",
       "      <th>Female Percentage</th>\n",
       "      <th>Num of nonbinary Gender Identification</th>\n",
       "      <th>Other Gender Percentage</th>\n",
       "      <th>Avg Post Bootcamp Salary</th>\n",
       "      <th>Attended Bootcamp Percentage</th>\n",
       "    </tr>\n",
       "  </thead>\n",
       "  <tbody>\n",
       "    <tr>\n",
       "      <th>0</th>\n",
       "      <td>15380</td>\n",
       "      <td>953</td>\n",
       "      <td>716</td>\n",
       "      <td>496</td>\n",
       "      <td>0.520462</td>\n",
       "      <td>326</td>\n",
       "      <td>0.342078</td>\n",
       "      <td>131</td>\n",
       "      <td>0.137461</td>\n",
       "      <td>63740.506061</td>\n",
       "      <td>0.061964</td>\n",
       "    </tr>\n",
       "  </tbody>\n",
       "</table>\n",
       "</div>"
      ],
      "text/plain": [
       "   Total Response  Attended Bootcamp Count  Degree Count  Num of Male  \\\n",
       "0           15380                      953           716          496   \n",
       "\n",
       "   Male Percentage  Num of Female  Female Percentage  \\\n",
       "0         0.520462            326           0.342078   \n",
       "\n",
       "   Num of nonbinary Gender Identification  Other Gender Percentage  \\\n",
       "0                                     131                 0.137461   \n",
       "\n",
       "   Avg Post Bootcamp Salary  Attended Bootcamp Percentage  \n",
       "0              63740.506061                      0.061964  "
      ]
     },
     "execution_count": 187,
     "metadata": {},
     "output_type": "execute_result"
    }
   ],
   "source": [
    "# Create a new table consolodating above calculations\n",
    "dict1 = {\"Total Response\": total_response, \n",
    "              \"Attended Bootcamp Count\": total_attendees, \n",
    "              \"Degree Count\": degree_count, \n",
    "              \"Num of Male\": male, \n",
    "              \"Male Percentage\": percentage_male,\n",
    "              \"Num of Female\": female, \n",
    "              \"Female Percentage\": percentage_female,\n",
    "              \"Num of nonbinary Gender Identification\": nonbinary_gender_identification,\n",
    "              \"Other Gender Percentage\": percentage_other, \n",
    "              \"Avg Post Bootcamp Salary\": average_post_salary_rounded, \n",
    "              \"Attended Bootcamp Percentage\": percentage_attended_bootcamp,\n",
    "              \"Male Percentage\": percentage_male, \n",
    "              \"Avg Post Bootcamp Salary\": average_post_salary_rounded}\n",
    "\n",
    "overall_df = pd.DataFrame([dict1])\n",
    "overall_df['Male Percentage'].astype(float)\n",
    "overall_df['Female Percentage'].astype(float)\n",
    "overall_df['Other Gender Percentage'].astype(float)\n",
    "overall_df['Avg Post Bootcamp Salary'].astype(float)\n",
    "overall_df['Attended Bootcamp Percentage'].astype(float)\n",
    "\n",
    "overall_df"
   ]
  },
  {
   "cell_type": "code",
   "execution_count": 188,
   "metadata": {},
   "outputs": [
    {
     "data": {
      "text/html": [
       "<div>\n",
       "<style scoped>\n",
       "    .dataframe tbody tr th:only-of-type {\n",
       "        vertical-align: middle;\n",
       "    }\n",
       "\n",
       "    .dataframe tbody tr th {\n",
       "        vertical-align: top;\n",
       "    }\n",
       "\n",
       "    .dataframe thead th {\n",
       "        text-align: right;\n",
       "    }\n",
       "</style>\n",
       "<table border=\"1\" class=\"dataframe\">\n",
       "  <thead>\n",
       "    <tr style=\"text-align: right;\">\n",
       "      <th></th>\n",
       "      <th>Total Response</th>\n",
       "      <th>Attended Bootcamp Count</th>\n",
       "      <th>Degree Count</th>\n",
       "      <th>Num of Male</th>\n",
       "      <th>Male Percentage</th>\n",
       "      <th>Num of Female</th>\n",
       "      <th>Female Percentage</th>\n",
       "      <th>Num of nonbinary Gender Identification</th>\n",
       "      <th>Other Gender Percentage</th>\n",
       "      <th>Avg Post Bootcamp Salary</th>\n",
       "      <th>Attended Bootcamp Percentage</th>\n",
       "    </tr>\n",
       "  </thead>\n",
       "  <tbody>\n",
       "    <tr>\n",
       "      <th>0</th>\n",
       "      <td>15380</td>\n",
       "      <td>953</td>\n",
       "      <td>716</td>\n",
       "      <td>496</td>\n",
       "      <td>0.52</td>\n",
       "      <td>326</td>\n",
       "      <td>0.34</td>\n",
       "      <td>131</td>\n",
       "      <td>0.14</td>\n",
       "      <td>$63740.51</td>\n",
       "      <td>0.06</td>\n",
       "    </tr>\n",
       "  </tbody>\n",
       "</table>\n",
       "</div>"
      ],
      "text/plain": [
       "   Total Response  Attended Bootcamp Count  Degree Count  Num of Male  \\\n",
       "0           15380                      953           716          496   \n",
       "\n",
       "  Male Percentage  Num of Female Female Percentage  \\\n",
       "0            0.52            326              0.34   \n",
       "\n",
       "   Num of nonbinary Gender Identification Other Gender Percentage  \\\n",
       "0                                     131                    0.14   \n",
       "\n",
       "  Avg Post Bootcamp Salary Attended Bootcamp Percentage  \n",
       "0                $63740.51                         0.06  "
      ]
     },
     "execution_count": 188,
     "metadata": {},
     "output_type": "execute_result"
    }
   ],
   "source": [
    "# Improve formatting before outputting spreadsheet\n",
    "overall_df['Male Percentage'] = overall_df['Male Percentage'].map(\"{:.2f}\".format)\n",
    "overall_df['Female Percentage'] = overall_df['Female Percentage'].map(\"{:.2f}\".format)\n",
    "overall_df['Other Gender Percentage'] = overall_df['Other Gender Percentage'].map(\"{:.2f}\".format)\n",
    "overall_df['Attended Bootcamp Percentage'] = overall_df['Attended Bootcamp Percentage'].map(\"{:.2f}\".format)\n",
    "overall_df['Avg Post Bootcamp Salary'] = overall_df['Avg Post Bootcamp Salary'].map(\"${:.2f}\".format)\n",
    "\n",
    "overall_df"
   ]
  },
  {
   "cell_type": "code",
   "execution_count": 189,
   "metadata": {},
   "outputs": [],
   "source": [
    "# Export to Excel\n",
    "overall_df.to_csv('Resources/Updated_2016-Bootcamp-Attendees-Survey-Data.csv', index=False, header=True)"
   ]
  },
  {
   "cell_type": "code",
   "execution_count": null,
   "metadata": {},
   "outputs": [],
   "source": []
  },
  {
   "cell_type": "code",
   "execution_count": null,
   "metadata": {},
   "outputs": [],
   "source": []
  }
 ],
 "metadata": {
  "anaconda-cloud": {},
  "kernelspec": {
   "display_name": "Python 3",
   "language": "python",
   "name": "python3"
  },
  "language_info": {
   "codemirror_mode": {
    "name": "ipython",
    "version": 3
   },
   "file_extension": ".py",
   "mimetype": "text/x-python",
   "name": "python",
   "nbconvert_exporter": "python",
   "pygments_lexer": "ipython3",
   "version": "3.8.3"
  }
 },
 "nbformat": 4,
 "nbformat_minor": 2
}
